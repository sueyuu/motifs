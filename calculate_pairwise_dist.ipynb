{
 "cells": [
  {
   "cell_type": "code",
   "execution_count": 1,
   "metadata": {},
   "outputs": [],
   "source": [
    "import numpy as np\n",
    "from itertools import combinations, product\n",
    "from myf import calculate_f_jk, calculate_g_x\n",
    "from joblib import Parallel, delayed\n",
    "import os\n",
    "import pickle\n",
    "from tslearn.barycenters import softdtw_barycenter"
   ]
  },
  {
   "cell_type": "code",
   "execution_count": 3,
   "metadata": {},
   "outputs": [],
   "source": [
    "def precompute_distances(\n",
    "    profiles,\n",
    "    n_jobs=-1,\n",
    "):\n",
    "    n = len(profiles)\n",
    "\n",
    "    # initial the matrix\n",
    "\n",
    "    dtw_matrix = np.full((n, n), np.inf)\n",
    "\n",
    "    indices = list(combinations(range(n), 2))\n",
    "\n",
    "    # Calculate the score between 2 signals\n",
    "\n",
    "    distances = Parallel(n_jobs=n_jobs)(\n",
    "        delayed(calculate_f_jk)(profiles[i], profiles[j]) for i, j in indices\n",
    "    )\n",
    "\n",
    "    # Assign score into matrix\n",
    "\n",
    "    for (i, j), dist in zip(indices, distances):\n",
    "\n",
    "        dtw_matrix[i, j] = dist\n",
    "\n",
    "    masked_arr = np.ma.masked_where(np.isinf(dtw_matrix), dtw_matrix)\n",
    "\n",
    "    # np.save(\"masked_arr_data.npy\", masked_arr.data)\n",
    "\n",
    "    np.savez(\n",
    "        \"masked_arr_both_multi_157.npz\", data=masked_arr.data, mask=masked_arr.mask\n",
    "    )\n",
    "\n",
    "    return masked_arr"
   ]
  },
  {
   "cell_type": "code",
   "execution_count": null,
   "metadata": {},
   "outputs": [],
   "source": [
    "if __name__ == \"__main__\":\n",
    "\n",
    "    train_files = os.listdir(\"smoothed_multi_train\")\n",
    "    train_list = []\n",
    "    for train_file in train_files:\n",
    "        file_path = os.path.join(\"smoothed_multi_train\", train_file)\n",
    "        train_list.append(np.load(file_path))\n",
    "    train_data = np.array(train_list)\n",
    "\n",
    "    # first get masked_arr and save\n",
    "    masked_arr = precompute_distances(train_data)\n",
    "    "
   ]
  }
 ],
 "metadata": {
  "kernelspec": {
   "display_name": "dl",
   "language": "python",
   "name": "python3"
  },
  "language_info": {
   "codemirror_mode": {
    "name": "ipython",
    "version": 3
   },
   "file_extension": ".py",
   "mimetype": "text/x-python",
   "name": "python",
   "nbconvert_exporter": "python",
   "pygments_lexer": "ipython3",
   "version": "3.9.21"
  }
 },
 "nbformat": 4,
 "nbformat_minor": 2
}
