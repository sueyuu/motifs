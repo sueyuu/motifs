{
 "cells": [
  {
   "cell_type": "code",
   "execution_count": null,
   "id": "b3fae1ea",
   "metadata": {},
   "outputs": [],
   "source": [
    "import numpy as np\n",
    "from itertools import combinations, product\n",
    "from myf import calculate_f_jk, calculate_g_x\n",
    "from joblib import Parallel, delayed\n",
    "import os\n",
    "import pickle\n",
    "from tslearn.clustering import silhouette_score"
   ]
  },
  {
   "cell_type": "code",
   "execution_count": 12,
   "id": "56fc95d2",
   "metadata": {},
   "outputs": [],
   "source": [
    "# apply with a test sample or whole validation set\n",
    "# suspect data is (-1, 1440)\n",
    "def apply_motif(\n",
    "    motifs,\n",
    "    tau,\n",
    "    data,\n",
    "    file_name,\n",
    "    dtw_matrix_validation=None,\n",
    "    n_jobs=-1,\n",
    "):\n",
    "    \"\"\"\n",
    "    motif_info = {\n",
    "            \"motif\": {\"pattern1\": profiles[row], \"pattern2\": profiles[col]}#non transformed\n",
    "            \"pair_idx\": (row, col),\n",
    "            \"score\": min_value,\n",
    "            \"barycenter\": barycenter or None\n",
    "        }\n",
    "    \"\"\"\n",
    "\n",
    "    if dtw_matrix_validation is None:\n",
    "\n",
    "        motif_num = len(motifs)\n",
    "        data_num = len(data)\n",
    "        # rows, each data, columns each motif, entry: dist\n",
    "        dtw_matrix_validation = np.zeros((data_num, motif_num))\n",
    "        # motif_num is motif_index\n",
    "        indices = list(product(range(data_num), range(motif_num)))\n",
    "\n",
    "        # inner function\n",
    "        def min_distance(data_i, train_j):\n",
    "            # train_j is a list or array with two profiles\n",
    "            return min(\n",
    "                calculate_f_jk(data_i, train_j[\"pattern1\"]),\n",
    "                calculate_f_jk(data_i, train_j[\"pattern2\"]),\n",
    "            )\n",
    "\n",
    "        # j is motif index in motifs list, should be the same as motif index in info\n",
    "        distances = Parallel(n_jobs=n_jobs)(\n",
    "            delayed(min_distance)(data[i], motifs[j][\"motif\"]) for i, j in indices\n",
    "        )\n",
    "\n",
    "        # Assign score into matrix\n",
    "        for (i, j), dist in zip(indices, distances):\n",
    "            dtw_matrix_validation[i, j] = dist\n",
    "\n",
    "        np.save(\n",
    "            f\"dtw_matrix_validation_multi_{file_name}.npy\", dtw_matrix_validation\n",
    "        )  # for original motifs with no motif removed\n",
    "\n",
    "    my_mask = np.zeros(dtw_matrix_validation.shape, dtype=bool)  # initiation to zeros\n",
    "\n",
    "    masked = np.ma.masked_array(\n",
    "        dtw_matrix_validation, mask=my_mask\n",
    "    )  # mask need to match matrix shape (n, k)\n",
    "\n",
    "    threshold = [motif[\"score\"] + tau for motif in motifs]  # shape k\n",
    "    threshold = np.array(threshold)\n",
    "\n",
    "    # Create a new mask where entries are True if masked >= threshold (broadcasted)\n",
    "    new_mask = masked >= threshold  # shape (n, k), broadcasting threshold\n",
    "\n",
    "    # Combine with the existing mask (if any)\n",
    "    combined_mask = np.logical_or(masked.mask, new_mask)\n",
    "\n",
    "    # Apply the combined mask to get a new masked array\n",
    "    masked = np.ma.masked_array(\n",
    "        masked.data, mask=combined_mask\n",
    "    )  # Now masked has entries masked where masked >= threshold (per column)\n",
    "\n",
    "    # Set index to -1 where all values are masked\n",
    "    min_indices = np.full(masked.shape[0], -1)  # initiation all to -1\n",
    "    for i, row in enumerate(masked):\n",
    "        # if at least one value is unmasked\n",
    "        if not np.all(row.mask):\n",
    "\n",
    "            min_indices[i] = np.argmin(row)  # idx of corresponding motif\n",
    "\n",
    "    min_barycenter = [\n",
    "        (\n",
    "            np.squeeze(motifs[idx][\"barycenter\"])\n",
    "            if idx != -1\n",
    "            else np.array(calculate_g_x(d))\n",
    "        )\n",
    "        for idx, d in zip(min_indices, data)\n",
    "    ]\n",
    "\n",
    "    return np.array(min_indices), np.array(\n",
    "        min_barycenter\n",
    "    )  # (n,) and (n, MOTIF_LENGTH) barycenter are transformed ones"
   ]
  },
  {
   "cell_type": "markdown",
   "id": "3de3271a",
   "metadata": {},
   "source": [
    "we apply the trained motif to validation to visuzlize 1. final motif numbers 2. outlier numbers and choose two better models"
   ]
  },
  {
   "cell_type": "code",
   "execution_count": null,
   "id": "f56f206a",
   "metadata": {},
   "outputs": [],
   "source": [
    "motif_file_list = [\n",
    "    \"9.236420021787648_2.7709260065362944_multi_motifs.pkl\", #0.3\n",
    "    \"9.236420021787648_3.694568008715059_multi_motifs.pkl\", #0.4\n",
    "    \"9.236420021787648_4.618210010893824_multi_motifs.pkl\", #0.5\n",
    "]"
   ]
  },
  {
   "cell_type": "code",
   "execution_count": 4,
   "id": "c049b002",
   "metadata": {},
   "outputs": [],
   "source": [
    "tau = [float(motif_file.split(\"_\")[1]) for motif_file in motif_file_list]"
   ]
  },
  {
   "cell_type": "code",
   "execution_count": 8,
   "id": "fc1e2224",
   "metadata": {},
   "outputs": [
    {
     "data": {
      "text/plain": [
       "[2.7709260065362944, 3.694568008715059, 4.618210010893824]"
      ]
     },
     "execution_count": 8,
     "metadata": {},
     "output_type": "execute_result"
    }
   ],
   "source": [
    "tau"
   ]
  },
  {
   "cell_type": "code",
   "execution_count": 5,
   "id": "6eadaa3f",
   "metadata": {},
   "outputs": [],
   "source": [
    "motif_list = []\n",
    "for motif_file in motif_file_list:\n",
    "    with open(motif_file, \"rb\") as f:\n",
    "        motif_list.append(pickle.load(f))"
   ]
  },
  {
   "cell_type": "code",
   "execution_count": 6,
   "id": "5037635b",
   "metadata": {},
   "outputs": [
    {
     "name": "stdout",
     "output_type": "stream",
     "text": [
      "53\n",
      "28\n",
      "18\n"
     ]
    }
   ],
   "source": [
    "for motif in motif_list:\n",
    "    print(len(motif))"
   ]
  },
  {
   "cell_type": "code",
   "execution_count": 7,
   "id": "2f3cc9ab",
   "metadata": {},
   "outputs": [],
   "source": [
    "# for validation use tukey test to remove outlier or 5-10% or smaller than certain numbers of cases\n",
    "validation_files = os.listdir(\"smoothed_multi_val\")\n",
    "validation_list = []\n",
    "for validation_file in validation_files:\n",
    "    file_path = os.path.join(\"smoothed_multi_val\", validation_file)\n",
    "    validation_list.append(np.load(file_path))\n",
    "validation_data = np.array(validation_list)"
   ]
  },
  {
   "cell_type": "code",
   "execution_count": 16,
   "id": "509156bf",
   "metadata": {},
   "outputs": [],
   "source": [
    "stored_motif_val_dist = []\n",
    "stored_motif_val_dist.append(\n",
    "    np.load(\"dtw_matrix_validation_multi_2.7709260065362944.npy\")\n",
    ")\n",
    "stored_motif_val_dist.append(\n",
    "    np.load(\"dtw_matrix_validation_multi_3.694568008715059.npy\")\n",
    ")\n",
    "stored_motif_val_dist.append(\n",
    "    np.load(\"dtw_matrix_validation_multi_4.618210010893824.npy\")\n",
    ")"
   ]
  },
  {
   "cell_type": "code",
   "execution_count": 13,
   "id": "a8999290",
   "metadata": {},
   "outputs": [],
   "source": [
    "val_results = Parallel(n_jobs=-1)(\n",
    "    delayed(apply_motif)(\n",
    "        motif_list[i], tau[i], validation_data, tau[i], stored_motif_val_dist[i]\n",
    "    )\n",
    "    for i in range(len(motif_list))\n",
    ")"
   ]
  },
  {
   "cell_type": "code",
   "execution_count": 15,
   "id": "4e34a42d",
   "metadata": {},
   "outputs": [
    {
     "name": "stdout",
     "output_type": "stream",
     "text": [
      "318\n",
      "3904\n",
      "385\n",
      "3837\n",
      "503\n",
      "3719\n"
     ]
    }
   ],
   "source": [
    "for i in range(len(val_results)):\n",
    "    min_indices, _ = val_results[i]\n",
    "    print(len(min_indices[min_indices == -1]))\n",
    "    print(len(min_indices[min_indices != -1]))"
   ]
  }
 ],
 "metadata": {
  "kernelspec": {
   "display_name": "dl",
   "language": "python",
   "name": "python3"
  },
  "language_info": {
   "codemirror_mode": {
    "name": "ipython",
    "version": 3
   },
   "file_extension": ".py",
   "mimetype": "text/x-python",
   "name": "python",
   "nbconvert_exporter": "python",
   "pygments_lexer": "ipython3",
   "version": "3.9.21"
  }
 },
 "nbformat": 4,
 "nbformat_minor": 5
}
