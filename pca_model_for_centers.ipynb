{
 "cells": [
  {
   "cell_type": "code",
   "execution_count": null,
   "id": "2d9f39b2",
   "metadata": {},
   "outputs": [],
   "source": [
    "import pickle\n",
    "import numpy as np\n",
    "from sklearn.decomposition import PCA"
   ]
  },
  {
   "cell_type": "markdown",
   "id": "ed3513dc",
   "metadata": {},
   "source": [
    "the following just use one motif algorithm as an example"
   ]
  },
  {
   "cell_type": "code",
   "execution_count": null,
   "id": "6e536941",
   "metadata": {},
   "outputs": [],
   "source": [
    "with open(\"9.236420021787648_3.694568008715059_multi_motifs.pkl\", \"rb\") as f:\n",
    "    single_motifs = pickle.load(f)"
   ]
  },
  {
   "cell_type": "code",
   "execution_count": null,
   "id": "068fd195",
   "metadata": {},
   "outputs": [],
   "source": [
    "barycenters = [motif[\"barycenter\"] for motif in single_motifs]"
   ]
  },
  {
   "cell_type": "code",
   "execution_count": null,
   "id": "7bd7b3fe",
   "metadata": {},
   "outputs": [],
   "source": [
    "barycenters = np.array(barycenters)"
   ]
  },
  {
   "cell_type": "code",
   "execution_count": null,
   "id": "10d47eaa",
   "metadata": {},
   "outputs": [],
   "source": [
    "barycenters = np.squeeze(barycenters)"
   ]
  },
  {
   "cell_type": "code",
   "execution_count": null,
   "id": "5c51d5ce",
   "metadata": {},
   "outputs": [],
   "source": [
    "X = barycenters\n",
    "pca = PCA(n_components=1)\n",
    "# fit the model with train(log_train) and then transform test X = #(center_nums, features)\n",
    "pca.fit(X)\n",
    "print(pca.explained_variance_ratio_)\n",
    "print(pca.singular_values_)"
   ]
  },
  {
   "cell_type": "code",
   "execution_count": null,
   "id": "2391e400",
   "metadata": {},
   "outputs": [],
   "source": [
    "# Save the PCA model\n",
    "with open(\"multi_motifs_pca_model.pkl\", \"wb\") as file:\n",
    "    pickle.dump(pca, file)"
   ]
  }
 ],
 "metadata": {
  "language_info": {
   "name": "python"
  }
 },
 "nbformat": 4,
 "nbformat_minor": 5
}
